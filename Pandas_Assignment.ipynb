{
 "cells": [
  {
   "cell_type": "code",
   "execution_count": 23,
   "id": "a8690937-0265-49fc-bee0-4f1e8375ea5d",
   "metadata": {},
   "outputs": [
    {
     "name": "stdout",
     "output_type": "stream",
     "text": [
      "  show_id     type                  title         director  \\\n",
      "0      s1    Movie   Dick Johnson Is Dead  Kirsten Johnson   \n",
      "1      s2  TV Show          Blood & Water              NaN   \n",
      "2      s3  TV Show              Ganglands  Julien Leclercq   \n",
      "3      s4  TV Show  Jailbirds New Orleans              NaN   \n",
      "4      s5  TV Show           Kota Factory              NaN   \n",
      "\n",
      "                                                cast        country  \\\n",
      "0                                                NaN  United States   \n",
      "1  Ama Qamata, Khosi Ngema, Gail Mabalane, Thaban...   South Africa   \n",
      "2  Sami Bouajila, Tracy Gotoas, Samuel Jouy, Nabi...            NaN   \n",
      "3                                                NaN            NaN   \n",
      "4  Mayur More, Jitendra Kumar, Ranjan Raj, Alam K...          India   \n",
      "\n",
      "           date_added  release_year rating   duration  \\\n",
      "0  September 25, 2021          2020  PG-13     90 min   \n",
      "1  September 24, 2021          2021  TV-MA  2 Seasons   \n",
      "2  September 24, 2021          2021  TV-MA   1 Season   \n",
      "3  September 24, 2021          2021  TV-MA   1 Season   \n",
      "4  September 24, 2021          2021  TV-MA  2 Seasons   \n",
      "\n",
      "                                           listed_in  \\\n",
      "0                                      Documentaries   \n",
      "1    International TV Shows, TV Dramas, TV Mysteries   \n",
      "2  Crime TV Shows, International TV Shows, TV Act...   \n",
      "3                             Docuseries, Reality TV   \n",
      "4  International TV Shows, Romantic TV Shows, TV ...   \n",
      "\n",
      "                                         description  \n",
      "0  As her father nears the end of his life, filmm...  \n",
      "1  After crossing paths at a party, a Cape Town t...  \n",
      "2  To protect his family from a powerful drug lor...  \n",
      "3  Feuds, flirtations and toilet talk go down amo...  \n",
      "4  In a city of coaching centers known to train I...  \n"
     ]
    }
   ],
   "source": [
    "import pandas as pd\n",
    "\n",
    "df = pd.read_csv(\"netflix_titles.csv\")\n",
    "\n",
    "print(df.head())\n",
    "\n"
   ]
  },
  {
   "cell_type": "code",
   "execution_count": 24,
   "id": "7be2209c-ac4d-487d-95c7-e63257fdbeee",
   "metadata": {},
   "outputs": [
    {
     "name": "stdout",
     "output_type": "stream",
     "text": [
      "  show_id     type                  title         director  \\\n",
      "0      s1    Movie   Dick Johnson Is Dead  Kirsten Johnson   \n",
      "1      s2  TV Show          Blood & Water              NaN   \n",
      "2      s3  TV Show              Ganglands  Julien Leclercq   \n",
      "3      s4  TV Show  Jailbirds New Orleans              NaN   \n",
      "4      s5  TV Show           Kota Factory              NaN   \n",
      "\n",
      "                                                cast        country  \\\n",
      "0                                                NaN  United States   \n",
      "1  Ama Qamata, Khosi Ngema, Gail Mabalane, Thaban...   South Africa   \n",
      "2  Sami Bouajila, Tracy Gotoas, Samuel Jouy, Nabi...            NaN   \n",
      "3                                                NaN            NaN   \n",
      "4  Mayur More, Jitendra Kumar, Ranjan Raj, Alam K...          India   \n",
      "\n",
      "           date_added  release_year rating   duration  \\\n",
      "0  September 25, 2021          2020  PG-13     90 min   \n",
      "1  September 24, 2021          2021  TV-MA  2 Seasons   \n",
      "2  September 24, 2021          2021  TV-MA   1 Season   \n",
      "3  September 24, 2021          2021  TV-MA   1 Season   \n",
      "4  September 24, 2021          2021  TV-MA  2 Seasons   \n",
      "\n",
      "                                           listed_in  \\\n",
      "0                                      Documentaries   \n",
      "1    International TV Shows, TV Dramas, TV Mysteries   \n",
      "2  Crime TV Shows, International TV Shows, TV Act...   \n",
      "3                             Docuseries, Reality TV   \n",
      "4  International TV Shows, Romantic TV Shows, TV ...   \n",
      "\n",
      "                                         description  \n",
      "0  As her father nears the end of his life, filmm...  \n",
      "1  After crossing paths at a party, a Cape Town t...  \n",
      "2  To protect his family from a powerful drug lor...  \n",
      "3  Feuds, flirtations and toilet talk go down amo...  \n",
      "4  In a city of coaching centers known to train I...  \n",
      "     show_id     type        title         director  \\\n",
      "8802   s8803    Movie       Zodiac    David Fincher   \n",
      "8803   s8804  TV Show  Zombie Dumb              NaN   \n",
      "8804   s8805    Movie   Zombieland  Ruben Fleischer   \n",
      "8805   s8806    Movie         Zoom     Peter Hewitt   \n",
      "8806   s8807    Movie       Zubaan      Mozez Singh   \n",
      "\n",
      "                                                   cast        country  \\\n",
      "8802  Mark Ruffalo, Jake Gyllenhaal, Robert Downey J...  United States   \n",
      "8803                                                NaN            NaN   \n",
      "8804  Jesse Eisenberg, Woody Harrelson, Emma Stone, ...  United States   \n",
      "8805  Tim Allen, Courteney Cox, Chevy Chase, Kate Ma...  United States   \n",
      "8806  Vicky Kaushal, Sarah-Jane Dias, Raaghav Chanan...          India   \n",
      "\n",
      "             date_added  release_year rating   duration  \\\n",
      "8802  November 20, 2019          2007      R    158 min   \n",
      "8803       July 1, 2019          2018  TV-Y7  2 Seasons   \n",
      "8804   November 1, 2019          2009      R     88 min   \n",
      "8805   January 11, 2020          2006     PG     88 min   \n",
      "8806      March 2, 2019          2015  TV-14    111 min   \n",
      "\n",
      "                                           listed_in  \\\n",
      "8802                  Cult Movies, Dramas, Thrillers   \n",
      "8803          Kids' TV, Korean TV Shows, TV Comedies   \n",
      "8804                         Comedies, Horror Movies   \n",
      "8805              Children & Family Movies, Comedies   \n",
      "8806  Dramas, International Movies, Music & Musicals   \n",
      "\n",
      "                                            description  \n",
      "8802  A political cartoonist, a crime reporter and a...  \n",
      "8803  While living alone in a spooky town, a young g...  \n",
      "8804  Looking to survive in a world taken over by zo...  \n",
      "8805  Dragged from civilian life, a former superhero...  \n",
      "8806  A scrappy but poor boy worms his way into a ty...  \n"
     ]
    }
   ],
   "source": [
    "import pandas as pd\n",
    "df = pd.read_csv(\"netflix_titles.csv\")\n",
    "\n",
    "print(df.head())\n",
    "print(df.tail())\n"
   ]
  },
  {
   "cell_type": "code",
   "execution_count": 25,
   "id": "ef56decd-b933-4247-a96c-86d22011c676",
   "metadata": {},
   "outputs": [
    {
     "name": "stdout",
     "output_type": "stream",
     "text": [
      "Number of rows: 8807\n",
      "Number of columns: 12\n"
     ]
    }
   ],
   "source": [
    "# 3. How many rows and columns are there in the data\n",
    "rows, cols = df.shape\n",
    "print(f\"Number of rows: {rows}\")\n",
    "print(f\"Number of columns: {cols}\")\n"
   ]
  },
  {
   "cell_type": "code",
   "execution_count": 26,
   "id": "54756d27-6482-4aa4-944c-b094275e7939",
   "metadata": {},
   "outputs": [
    {
     "name": "stdout",
     "output_type": "stream",
     "text": [
      "Number of unique countries: 748\n"
     ]
    }
   ],
   "source": [
    "# 4. Identify the number of unique countries where content is produced\n",
    "unique_countries = df['country'].nunique()\n",
    "print(f\"Number of unique countries: {unique_countries}\")\n"
   ]
  },
  {
   "cell_type": "code",
   "execution_count": 27,
   "id": "bded86d5-c5fa-445c-997a-27d0fbbbaedb",
   "metadata": {},
   "outputs": [
    {
     "name": "stdout",
     "output_type": "stream",
     "text": [
      "     show_id     type                  title         director  \\\n",
      "1         s2  TV Show          Blood & Water              NaN   \n",
      "2         s3  TV Show              Ganglands  Julien Leclercq   \n",
      "3         s4  TV Show  Jailbirds New Orleans              NaN   \n",
      "4         s5  TV Show           Kota Factory              NaN   \n",
      "5         s6  TV Show          Midnight Mass    Mike Flanagan   \n",
      "...      ...      ...                    ...              ...   \n",
      "8795   s8796  TV Show        Yu-Gi-Oh! Arc-V              NaN   \n",
      "8796   s8797  TV Show             Yunus Emre              NaN   \n",
      "8797   s8798  TV Show              Zak Storm              NaN   \n",
      "8800   s8801  TV Show     Zindagi Gulzar Hai              NaN   \n",
      "8803   s8804  TV Show            Zombie Dumb              NaN   \n",
      "\n",
      "                                                   cast  \\\n",
      "1     Ama Qamata, Khosi Ngema, Gail Mabalane, Thaban...   \n",
      "2     Sami Bouajila, Tracy Gotoas, Samuel Jouy, Nabi...   \n",
      "3                                                   NaN   \n",
      "4     Mayur More, Jitendra Kumar, Ranjan Raj, Alam K...   \n",
      "5     Kate Siegel, Zach Gilford, Hamish Linklater, H...   \n",
      "...                                                 ...   \n",
      "8795  Mike Liscio, Emily Bauer, Billy Bob Thompson, ...   \n",
      "8796  Gökhan Atalay, Payidar Tüfekçioglu, Baran Akbu...   \n",
      "8797  Michael Johnston, Jessica Gee-George, Christin...   \n",
      "8800  Sanam Saeed, Fawad Khan, Ayesha Omer, Mehreen ...   \n",
      "8803                                                NaN   \n",
      "\n",
      "                                            country          date_added  \\\n",
      "1                                      South Africa  September 24, 2021   \n",
      "2                                               NaN  September 24, 2021   \n",
      "3                                               NaN  September 24, 2021   \n",
      "4                                             India  September 24, 2021   \n",
      "5                                               NaN  September 24, 2021   \n",
      "...                                             ...                 ...   \n",
      "8795                                  Japan, Canada         May 1, 2018   \n",
      "8796                                         Turkey    January 17, 2017   \n",
      "8797  United States, France, South Korea, Indonesia  September 13, 2018   \n",
      "8800                                       Pakistan   December 15, 2016   \n",
      "8803                                            NaN        July 1, 2019   \n",
      "\n",
      "      release_year rating   duration  \\\n",
      "1             2021  TV-MA  2 Seasons   \n",
      "2             2021  TV-MA   1 Season   \n",
      "3             2021  TV-MA   1 Season   \n",
      "4             2021  TV-MA  2 Seasons   \n",
      "5             2021  TV-MA   1 Season   \n",
      "...            ...    ...        ...   \n",
      "8795          2015  TV-Y7  2 Seasons   \n",
      "8796          2016  TV-PG  2 Seasons   \n",
      "8797          2016  TV-Y7  3 Seasons   \n",
      "8800          2012  TV-PG   1 Season   \n",
      "8803          2018  TV-Y7  2 Seasons   \n",
      "\n",
      "                                              listed_in  \\\n",
      "1       International TV Shows, TV Dramas, TV Mysteries   \n",
      "2     Crime TV Shows, International TV Shows, TV Act...   \n",
      "3                                Docuseries, Reality TV   \n",
      "4     International TV Shows, Romantic TV Shows, TV ...   \n",
      "5                    TV Dramas, TV Horror, TV Mysteries   \n",
      "...                                                 ...   \n",
      "8795                             Anime Series, Kids' TV   \n",
      "8796                  International TV Shows, TV Dramas   \n",
      "8797                                           Kids' TV   \n",
      "8800  International TV Shows, Romantic TV Shows, TV ...   \n",
      "8803             Kids' TV, Korean TV Shows, TV Comedies   \n",
      "\n",
      "                                            description  \n",
      "1     After crossing paths at a party, a Cape Town t...  \n",
      "2     To protect his family from a powerful drug lor...  \n",
      "3     Feuds, flirtations and toilet talk go down amo...  \n",
      "4     In a city of coaching centers known to train I...  \n",
      "5     The arrival of a charismatic young priest brin...  \n",
      "...                                                 ...  \n",
      "8795  Now that he's discovered the Pendulum Summonin...  \n",
      "8796  During the Mongol invasions, Yunus Emre leaves...  \n",
      "8797  Teen surfer Zak Storm is mysteriously transpor...  \n",
      "8800  Strong-willed, middle-class Kashaf and carefre...  \n",
      "8803  While living alone in a spooky town, a young g...  \n",
      "\n",
      "[2676 rows x 12 columns]\n"
     ]
    }
   ],
   "source": [
    "# 5. Display all records where the type is 'TV Show\n",
    "tv_shows = df[df['type'] == 'TV Show']\n",
    "print(tv_shows)\n"
   ]
  },
  {
   "cell_type": "code",
   "execution_count": 28,
   "id": "ca47653e-8dc5-4486-a3a3-69706acb6608",
   "metadata": {},
   "outputs": [
    {
     "name": "stdout",
     "output_type": "stream",
     "text": [
      "  date_added  year_added  month_added\n",
      "0 2021-09-25      2021.0          9.0\n",
      "1 2021-09-24      2021.0          9.0\n",
      "2 2021-09-24      2021.0          9.0\n",
      "3 2021-09-24      2021.0          9.0\n",
      "4 2021-09-24      2021.0          9.0\n"
     ]
    }
   ],
   "source": [
    "# 6. Convert the date_added column to datetime and extract the year and month.\n",
    "df['date_added'] = pd.to_datetime(df['date_added'], errors='coerce')\n",
    "\n",
    "\n",
    "df['year_added'] = df['date_added'].dt.year\n",
    "df['month_added'] = df['date_added'].dt.month\n",
    "\n",
    "print(df[['date_added', 'year_added', 'month_added']].head())\n"
   ]
  },
  {
   "cell_type": "code",
   "execution_count": 29,
   "id": "0b32fce5-fa14-4ef4-bd67-5a69461365ba",
   "metadata": {},
   "outputs": [
    {
     "name": "stdout",
     "output_type": "stream",
     "text": [
      "Number of movies released in 2019: 1424\n"
     ]
    }
   ],
   "source": [
    "#7. How many movies were released in 2019\n",
    "movies_2019 = df[(df['type'] == 'Movie') & (df['year_added'] == 2019)]\n",
    "\n",
    "print(f\"Number of movies released in 2019: {len(movies_2019)}\")\n"
   ]
  },
  {
   "cell_type": "code",
   "execution_count": 30,
   "id": "75b74e36-8c04-4c5b-a90c-2c57fd60a4a2",
   "metadata": {},
   "outputs": [
    {
     "name": "stdout",
     "output_type": "stream",
     "text": [
      "rating\n",
      "66 min         1\n",
      "74 min         1\n",
      "84 min         1\n",
      "G             41\n",
      "NC-17          3\n",
      "NR            80\n",
      "PG           287\n",
      "PG-13        490\n",
      "R            799\n",
      "TV-14       2160\n",
      "TV-G         220\n",
      "TV-MA       3207\n",
      "TV-PG        863\n",
      "TV-Y         307\n",
      "TV-Y7        334\n",
      "TV-Y7-FV       6\n",
      "UR             3\n",
      "Name: show_id, dtype: int64\n"
     ]
    }
   ],
   "source": [
    "#8. Group by rating and show the count of each category\n",
    "rating_counts = df.groupby('rating')['show_id'].count()\n",
    "\n",
    "print(rating_counts)\n"
   ]
  },
  {
   "cell_type": "code",
   "execution_count": 32,
   "id": "2c005ec4-687f-43a5-8941-c013d34d952c",
   "metadata": {},
   "outputs": [
    {
     "name": "stdout",
     "output_type": "stream",
     "text": [
      "   Rank CCA3    Country/Territory           Capital      Continent  \\\n",
      "0    36  AFG          Afghanistan             Kabul           Asia   \n",
      "1   138  ALB              Albania            Tirana         Europe   \n",
      "2    34  DZA              Algeria           Algiers         Africa   \n",
      "3   213  ASM       American Samoa         Pago Pago        Oceania   \n",
      "4   203  AND              Andorra  Andorra la Vella         Europe   \n",
      "5    42  AGO               Angola            Luanda         Africa   \n",
      "6   224  AIA             Anguilla        The Valley  North America   \n",
      "7   201  ATG  Antigua and Barbuda      Saint John’s  North America   \n",
      "8    33  ARG            Argentina      Buenos Aires  South America   \n",
      "9   140  ARM              Armenia           Yerevan           Asia   \n",
      "\n",
      "   2022 Population  2020 Population  2015 Population  2010 Population  \\\n",
      "0         41128771         38972230         33753499         28189672   \n",
      "1          2842321          2866849          2882481          2913399   \n",
      "2         44903225         43451666         39543154         35856344   \n",
      "3            44273            46189            51368            54849   \n",
      "4            79824            77700            71746            71519   \n",
      "5         35588987         33428485         28127721         23364185   \n",
      "6            15857            15585            14525            13172   \n",
      "7            93763            92664            89941            85695   \n",
      "8         45510318         45036032         43257065         41100123   \n",
      "9          2780469          2805608          2878595          2946293   \n",
      "\n",
      "   2000 Population  1990 Population  1980 Population  1970 Population  \\\n",
      "0         19542982         10694796         12486631         10752971   \n",
      "1          3182021          3295066          2941651          2324731   \n",
      "2         30774621         25518074         18739378         13795915   \n",
      "3            58230            47818            32886            27075   \n",
      "4            66097            53569            35611            19860   \n",
      "5         16394062         11828638          8330047          6029700   \n",
      "6            11047             8316             6560             6283   \n",
      "7            75055            63328            64888            64516   \n",
      "8         37070774         32637657         28024803         23842803   \n",
      "9          3168523          3556539          3135123          2534377   \n",
      "\n",
      "   Area (km²)  Density (per km²)  Growth Rate  World Population Percentage  \n",
      "0      652230            63.0587       1.0257                         0.52  \n",
      "1       28748            98.8702       0.9957                         0.04  \n",
      "2     2381741            18.8531       1.0164                         0.56  \n",
      "3         199           222.4774       0.9831                         0.00  \n",
      "4         468           170.5641       1.0100                         0.00  \n",
      "5     1246700            28.5466       1.0315                         0.45  \n",
      "6          91           174.2527       1.0066                         0.00  \n",
      "7         442           212.1335       1.0058                         0.00  \n",
      "8     2780400            16.3683       1.0052                         0.57  \n",
      "9       29743            93.4831       0.9962                         0.03  \n"
     ]
    }
   ],
   "source": [
    "#1. Load and display the top 10 rows\n",
    "import pandas as pd\n",
    "\n",
    "df = pd.read_csv(\"world_population.csv\")\n",
    "print(df.head(10))\n"
   ]
  },
  {
   "cell_type": "code",
   "execution_count": 33,
   "id": "1e9cedee-8f47-47dc-a3f3-7bf6e33fba19",
   "metadata": {},
   "outputs": [
    {
     "name": "stdout",
     "output_type": "stream",
     "text": [
      "Rank                           0\n",
      "CCA3                           0\n",
      "Country/Territory              0\n",
      "Capital                        0\n",
      "Continent                      0\n",
      "2022 Population                0\n",
      "2020 Population                0\n",
      "2015 Population                0\n",
      "2010 Population                0\n",
      "2000 Population                0\n",
      "1990 Population                0\n",
      "1980 Population                0\n",
      "1970 Population                0\n",
      "Area (km²)                     0\n",
      "Density (per km²)              0\n",
      "Growth Rate                    0\n",
      "World Population Percentage    0\n",
      "dtype: int64\n"
     ]
    }
   ],
   "source": [
    "#ques 2\n",
    "print(df.isnull().sum())"
   ]
  },
  {
   "cell_type": "code",
   "execution_count": 36,
   "id": "e03e3bfa-b061-4877-9395-4cd7fcf752c1",
   "metadata": {},
   "outputs": [
    {
     "name": "stdout",
     "output_type": "stream",
     "text": [
      "    Country/Territory  2022 Population\n",
      "41              China       1425887337\n",
      "92              India       1417173173\n",
      "221     United States        338289857\n",
      "93          Indonesia        275501339\n",
      "156          Pakistan        235824862\n"
     ]
    }
   ],
   "source": [
    "top5 = df.sort_values(by='2022 Population', ascending=False).head(5)\n",
    "\n",
    "print(top5[['Country/Territory', '2022 Population']])\n"
   ]
  },
  {
   "cell_type": "code",
   "execution_count": null,
   "id": "ecf9d527-18f7-4ec2-b288-ef06a65ba40d",
   "metadata": {},
   "outputs": [],
   "source": [
    "# 4. Create a new column showing GDP per capita ( GDP / Population )"
   ]
  },
  {
   "cell_type": "code",
   "execution_count": 37,
   "id": "ee6bdb17-5bc2-42cd-b4f7-5e3f54be6447",
   "metadata": {},
   "outputs": [
    {
     "name": "stdout",
     "output_type": "stream",
     "text": [
      "       id   season        city        date match_type player_of_match  \\\n",
      "0  335982  2007/08   Bangalore  2008-04-18     League     BB McCullum   \n",
      "1  335983  2007/08  Chandigarh  2008-04-19     League      MEK Hussey   \n",
      "2  335984  2007/08       Delhi  2008-04-19     League     MF Maharoof   \n",
      "3  335985  2007/08      Mumbai  2008-04-20     League      MV Boucher   \n",
      "4  335986  2007/08     Kolkata  2008-04-20     League       DJ Hussey   \n",
      "\n",
      "                                        venue                        team1  \\\n",
      "0                       M Chinnaswamy Stadium  Royal Challengers Bangalore   \n",
      "1  Punjab Cricket Association Stadium, Mohali              Kings XI Punjab   \n",
      "2                            Feroz Shah Kotla             Delhi Daredevils   \n",
      "3                            Wankhede Stadium               Mumbai Indians   \n",
      "4                                Eden Gardens        Kolkata Knight Riders   \n",
      "\n",
      "                         team2                  toss_winner toss_decision  \\\n",
      "0        Kolkata Knight Riders  Royal Challengers Bangalore         field   \n",
      "1          Chennai Super Kings          Chennai Super Kings           bat   \n",
      "2             Rajasthan Royals             Rajasthan Royals           bat   \n",
      "3  Royal Challengers Bangalore               Mumbai Indians           bat   \n",
      "4              Deccan Chargers              Deccan Chargers           bat   \n",
      "\n",
      "                        winner   result  result_margin  target_runs  \\\n",
      "0        Kolkata Knight Riders     runs          140.0        223.0   \n",
      "1          Chennai Super Kings     runs           33.0        241.0   \n",
      "2             Delhi Daredevils  wickets            9.0        130.0   \n",
      "3  Royal Challengers Bangalore  wickets            5.0        166.0   \n",
      "4        Kolkata Knight Riders  wickets            5.0        111.0   \n",
      "\n",
      "   target_overs super_over method    umpire1         umpire2  \n",
      "0          20.0          N    NaN  Asad Rauf     RE Koertzen  \n",
      "1          20.0          N    NaN  MR Benson      SL Shastri  \n",
      "2          20.0          N    NaN  Aleem Dar  GA Pratapkumar  \n",
      "3          20.0          N    NaN   SJ Davis       DJ Harper  \n",
      "4          20.0          N    NaN  BF Bowden     K Hariharan  \n"
     ]
    }
   ],
   "source": [
    "#1. Load the matches.csv file\n",
    "import pandas as pd\n",
    "df = pd.read_csv(\"matches.csv\")\n",
    "print(df.head())\n"
   ]
  },
  {
   "cell_type": "code",
   "execution_count": 38,
   "id": "9594bde0-9fd8-435d-a8c2-f26f797c9fad",
   "metadata": {},
   "outputs": [
    {
     "name": "stdout",
     "output_type": "stream",
     "text": [
      "The most successful team is Mumbai Indians with 144 wins.\n"
     ]
    }
   ],
   "source": [
    "#\n",
    "win_counts = df['winner'].value_counts()\n",
    "\n",
    "most_successful_team = win_counts.idxmax()\n",
    "most_wins = win_counts.max()\n",
    "\n",
    "print(f\"The most successful team is {most_successful_team} with {most_wins} wins.\")\n"
   ]
  },
  {
   "cell_type": "code",
   "execution_count": 39,
   "id": "c4cb59a0-e502-4a32-a496-b695e19f035b",
   "metadata": {},
   "outputs": [
    {
     "name": "stdout",
     "output_type": "stream",
     "text": [
      "season\n",
      "2007/08    58\n",
      "2009       57\n",
      "2009/10    60\n",
      "2011       73\n",
      "2012       74\n",
      "2013       76\n",
      "2014       60\n",
      "2015       59\n",
      "2016       60\n",
      "2017       59\n",
      "2018       60\n",
      "2019       60\n",
      "2020/21    60\n",
      "2021       60\n",
      "2022       74\n",
      "2023       74\n",
      "2024       71\n",
      "Name: count, dtype: int64\n"
     ]
    }
   ],
   "source": [
    "#3. Count total matches played each season\n",
    "matches_per_season = df['season'].value_counts().sort_index()\n",
    "\n",
    "print(matches_per_season)"
   ]
  },
  {
   "cell_type": "code",
   "execution_count": 40,
   "id": "660d372d-16ff-4876-bc0d-84fe3a3a400a",
   "metadata": {},
   "outputs": [
    {
     "name": "stdout",
     "output_type": "stream",
     "text": [
      "Top 5 players with most Player of the Match awards:\n",
      "player_of_match\n",
      "AB de Villiers    25\n",
      "CH Gayle          22\n",
      "RG Sharma         19\n",
      "DA Warner         18\n",
      "V Kohli           18\n",
      "Name: count, dtype: int64\n"
     ]
    }
   ],
   "source": [
    "#4. Display the top 5 players who won the most \"Player of the Match\" awards\n",
    "top_players = df['player_of_match'].value_counts().head(5)\n",
    "\n",
    "print(\"Top 5 players with most Player of the Match awards:\")\n",
    "print(top_players)\n"
   ]
  },
  {
   "cell_type": "code",
   "execution_count": 44,
   "id": "164631b4-9c4d-4c47-8fce-8b23b8ae998a",
   "metadata": {},
   "outputs": [],
   "source": [
    "import pandas as pd\n",
    "\n",
    "matches = pd.read_csv('matches.csv')\n",
    "deliveries = pd.read_csv('deliveries.csv')\n",
    "\n",
    "merged_df = deliveries.merge(matches, left_on='match_id', right_on='id')\n"
   ]
  },
  {
   "cell_type": "code",
   "execution_count": 46,
   "id": "bde4612b-4196-4e2d-b556-2f244fb35477",
   "metadata": {},
   "outputs": [
    {
     "name": "stdout",
     "output_type": "stream",
     "text": [
      "batter\n",
      "V Kohli           8014\n",
      "S Dhawan          6769\n",
      "RG Sharma         6630\n",
      "DA Warner         6567\n",
      "SK Raina          5536\n",
      "MS Dhoni          5243\n",
      "AB de Villiers    5181\n",
      "CH Gayle          4997\n",
      "RV Uthappa        4954\n",
      "KD Karthik        4843\n",
      "Name: batsman_runs, dtype: int64\n"
     ]
    }
   ],
   "source": [
    "#top 10 scorer \n",
    "top_batters = (\n",
    "    merged_df.groupby('batter')['batsman_runs']\n",
    "    .sum()\n",
    "    .sort_values(ascending=False)\n",
    "    .head(10)\n",
    ")\n",
    "print(top_batters)\n"
   ]
  },
  {
   "cell_type": "code",
   "execution_count": 47,
   "id": "7cb3e640-50ba-4707-b10c-23e38657296b",
   "metadata": {},
   "outputs": [
    {
     "name": "stdout",
     "output_type": "stream",
     "text": [
      "winner\n",
      "Mumbai Indians                 144\n",
      "Chennai Super Kings            138\n",
      "Kolkata Knight Riders          131\n",
      "Royal Challengers Bangalore    116\n",
      "Rajasthan Royals               112\n",
      "Kings XI Punjab                 88\n",
      "Sunrisers Hyderabad             88\n",
      "Delhi Daredevils                67\n",
      "Delhi Capitals                  48\n",
      "Deccan Chargers                 29\n",
      "Name: count, dtype: int64\n"
     ]
    }
   ],
   "source": [
    "#most wins by a team\n",
    "most_wins = (\n",
    "    matches['winner'].value_counts()\n",
    "    .head(10)\n",
    ")\n",
    "print(most_wins)\n"
   ]
  },
  {
   "cell_type": "code",
   "execution_count": 48,
   "id": "3aebe688-aabe-4616-8be8-b7a9d6e79db2",
   "metadata": {},
   "outputs": [
    {
     "name": "stdout",
     "output_type": "stream",
     "text": [
      "season\n",
      "2007/08    309.258621\n",
      "2009       286.894737\n",
      "2009/10    314.716667\n",
      "2011       289.780822\n",
      "2012       303.418919\n",
      "2013       297.394737\n",
      "2014       315.516667\n",
      "2015       311.067797\n",
      "2016       314.366667\n",
      "2017       318.406780\n",
      "2018       331.683333\n",
      "2019       323.900000\n",
      "2020/21    323.600000\n",
      "2021       310.616667\n",
      "2022       329.662162\n",
      "2023       347.135135\n",
      "2024       365.788732\n",
      "Name: total_runs, dtype: float64\n"
     ]
    }
   ],
   "source": [
    "#Avg score per season\n",
    "avg_score_per_season = (\n",
    "    merged_df.groupby(['season', 'match_id'])['total_runs']\n",
    "    .sum()\n",
    "    .groupby('season')\n",
    "    .mean()\n",
    ")\n",
    "print(avg_score_per_season)"
   ]
  },
  {
   "cell_type": "code",
   "execution_count": 50,
   "id": "96c1c4d0-61b5-4b17-ac64-782b240648e6",
   "metadata": {},
   "outputs": [
    {
     "name": "stdout",
     "output_type": "stream",
     "text": [
      "   gender race/ethnicity parental level of education         lunch  \\\n",
      "0  female        group B           bachelor's degree      standard   \n",
      "1  female        group C                some college      standard   \n",
      "2  female        group B             master's degree      standard   \n",
      "3    male        group A          associate's degree  free/reduced   \n",
      "4    male        group C                some college      standard   \n",
      "\n",
      "  test preparation course  math score  reading score  writing score  \n",
      "0                    none          72             72             74  \n",
      "1               completed          69             90             88  \n",
      "2                    none          90             95             93  \n",
      "3                    none          47             57             44  \n",
      "4                    none          76             78             75  \n"
     ]
    }
   ],
   "source": [
    "import pandas as pd\n",
    "\n",
    "df = pd.read_csv(\"StudentsPerformance.csv\")\n",
    "\n",
    "print(df.head())"
   ]
  },
  {
   "cell_type": "code",
   "execution_count": 52,
   "id": "7cd2f4cd-065e-4852-ad13-d70626194efc",
   "metadata": {},
   "outputs": [
    {
     "name": "stdout",
     "output_type": "stream",
     "text": [
      "Average Marks:\n",
      "Math Score: 66.09\n",
      "Reading Score: 69.17\n",
      "Writing Score: 68.05\n"
     ]
    }
   ],
   "source": [
    "import pandas as pd\n",
    "\n",
    "students_df = pd.read_csv(\"StudentsPerformance.csv\")  # Adjust path if needed\n",
    "average_scores = students_df[['math score', 'reading score', 'writing score']].mean()\n",
    "\n",
    "print(\"Average Marks:\")\n",
    "print(f\"Math Score: {average_scores['math score']:.2f}\")\n",
    "print(f\"Reading Score: {average_scores['reading score']:.2f}\")\n",
    "print(f\"Writing Score: {average_scores['writing score']:.2f}\")\n"
   ]
  },
  {
   "cell_type": "code",
   "execution_count": 53,
   "id": "ea9fd20a-2016-4949-b77e-99ede8cdb657",
   "metadata": {},
   "outputs": [
    {
     "name": "stdout",
     "output_type": "stream",
     "text": [
      "Average Writing Score by Gender:\n",
      "gender\n",
      "female    72.467181\n",
      "male      63.311203\n",
      "Name: writing score, dtype: float64\n"
     ]
    }
   ],
   "source": [
    "# 2. Who performed better in writing – males or females?\n",
    "writing_avg_by_gender = students_df.groupby('gender')['writing score'].mean()\n",
    "\n",
    "print(\"Average Writing Score by Gender:\")\n",
    "print(writing_avg_by_gender)\n"
   ]
  },
  {
   "cell_type": "code",
   "execution_count": 54,
   "id": "72f7b58f-f090-48b8-9e98-13700fce03e0",
   "metadata": {},
   "outputs": [
    {
     "name": "stdout",
     "output_type": "stream",
     "text": [
      "   math score  reading score  writing score  total score  percentage\n",
      "0          72             72             74          218   72.666667\n",
      "1          69             90             88          247   82.333333\n",
      "2          90             95             93          278   92.666667\n",
      "3          47             57             44          148   49.333333\n",
      "4          76             78             75          229   76.333333\n"
     ]
    }
   ],
   "source": [
    "#3. Add a new column for total score and percentage\n",
    "\n",
    "students_df['total score'] = (\n",
    "    students_df['math score'] +\n",
    "    students_df['reading score'] +\n",
    "    students_df['writing score']\n",
    ")\n",
    "\n",
    "students_df['percentage'] = students_df['total score'] / 3\n",
    "\n",
    "print(students_df[['math score', 'reading score', 'writing score', 'total score', 'percentage']].head())\n"
   ]
  },
  {
   "cell_type": "code",
   "execution_count": 56,
   "id": "f9a3e500-d23f-4a01-9238-2f31bf080766",
   "metadata": {},
   "outputs": [
    {
     "data": {
      "image/png": "[encoded data removed]",
      "text/plain": [
       "<Figure size 1000x600 with 1 Axes>"
      ]
     },
     "metadata": {},
     "output_type": "display_data"
    }
   ],
   "source": [
    "#4. Plot a bar chart showing average scores grouped by parental level of education\n",
    "import matplotlib.pyplot as plt\n",
    "\n",
    "avg_scores_by_parent_edu = students_df.groupby('parental level of education')[['math score', 'reading score', 'writing score']].mean()\n",
    "\n",
    "avg_scores_by_parent_edu.plot(kind='bar', figsize=(10, 6))\n",
    "\n",
    "plt.title('Average Scores by Parental Level of Education')\n",
    "plt.ylabel('Average Score')\n",
    "plt.xlabel('Parental Level of Education')\n",
    "plt.xticks(rotation=45)\n",
    "plt.grid(axis='y')\n",
    "plt.tight_layout()\n",
    "plt.show()\n"
   ]
  },
  {
   "cell_type": "code",
   "execution_count": 57,
   "id": "c4be6092-6b5d-4c6a-8d81-b1f4cd2106b6",
   "metadata": {},
   "outputs": [
    {
     "name": "stdout",
     "output_type": "stream",
     "text": [
      "     gender  math score  reading score  writing score\n",
      "114  female          99            100            100\n",
      "149    male         100            100             93\n",
      "165  female          96            100            100\n",
      "179  female          97            100            100\n",
      "451  female         100             92             97\n",
      "458  female         100            100            100\n",
      "546  female          92            100             97\n",
      "566  female          92            100            100\n",
      "571    male          91             96             92\n",
      "594  female          92            100             99\n",
      "625    male         100             97             99\n",
      "685  female          94             99            100\n",
      "712  female          98            100             99\n",
      "717  female          96             96             99\n",
      "855  female          97             97             96\n",
      "864    male          97             93             91\n",
      "886  female          93            100             95\n",
      "903  female          93            100            100\n",
      "916    male         100            100            100\n",
      "919    male          91             96             91\n",
      "957  female          92            100            100\n",
      "962  female         100            100            100\n",
      "979  female          91             95             94\n"
     ]
    }
   ],
   "source": [
    "#5. Find students who scored above 90% in all subjects\n",
    "high_achievers = students_df[\n",
    "    (students_df['math score'] > 90) &\n",
    "    (students_df['reading score'] > 90) &\n",
    "    (students_df['writing score'] > 90)\n",
    "]\n",
    "\n",
    "print(high_achievers[['gender', 'math score', 'reading score', 'writing score']])\n"
   ]
  },
  {
   "cell_type": "code",
   "execution_count": 58,
   "id": "1ef2508e-bbf4-4441-b214-b8209ae0bfcc",
   "metadata": {},
   "outputs": [
    {
     "name": "stdout",
     "output_type": "stream",
     "text": [
      "=== .info() ===\n",
      "<class 'pandas.core.frame.DataFrame'>\n",
      "RangeIndex: 300153 entries, 0 to 300152\n",
      "Data columns (total 12 columns):\n",
      " #   Column            Non-Null Count   Dtype  \n",
      "---  ------            --------------   -----  \n",
      " 0   Unnamed: 0        300153 non-null  int64  \n",
      " 1   airline           300153 non-null  object \n",
      " 2   flight            300153 non-null  object \n",
      " 3   source_city       300153 non-null  object \n",
      " 4   departure_time    300153 non-null  object \n",
      " 5   stops             300153 non-null  object \n",
      " 6   arrival_time      300153 non-null  object \n",
      " 7   destination_city  300153 non-null  object \n",
      " 8   class             300153 non-null  object \n",
      " 9   duration          300153 non-null  float64\n",
      " 10  days_left         300153 non-null  int64  \n",
      " 11  price             300153 non-null  int64  \n",
      "dtypes: float64(1), int64(3), object(8)\n",
      "memory usage: 27.5+ MB\n",
      "None\n",
      "\n",
      "=== .describe() ===\n",
      "           Unnamed: 0  airline  flight source_city departure_time   stops  \\\n",
      "count   300153.000000   300153  300153      300153         300153  300153   \n",
      "unique            NaN        6    1561           6              6       3   \n",
      "top               NaN  Vistara  UK-706       Delhi        Morning     one   \n",
      "freq              NaN   127859    3235       61343          71146  250863   \n",
      "mean    150076.000000      NaN     NaN         NaN            NaN     NaN   \n",
      "std      86646.852011      NaN     NaN         NaN            NaN     NaN   \n",
      "min          0.000000      NaN     NaN         NaN            NaN     NaN   \n",
      "25%      75038.000000      NaN     NaN         NaN            NaN     NaN   \n",
      "50%     150076.000000      NaN     NaN         NaN            NaN     NaN   \n",
      "75%     225114.000000      NaN     NaN         NaN            NaN     NaN   \n",
      "max     300152.000000      NaN     NaN         NaN            NaN     NaN   \n",
      "\n",
      "       arrival_time destination_city    class       duration      days_left  \\\n",
      "count        300153           300153   300153  300153.000000  300153.000000   \n",
      "unique            6                6        2            NaN            NaN   \n",
      "top           Night           Mumbai  Economy            NaN            NaN   \n",
      "freq          91538            59097   206666            NaN            NaN   \n",
      "mean            NaN              NaN      NaN      12.221021      26.004751   \n",
      "std             NaN              NaN      NaN       7.191997      13.561004   \n",
      "min             NaN              NaN      NaN       0.830000       1.000000   \n",
      "25%             NaN              NaN      NaN       6.830000      15.000000   \n",
      "50%             NaN              NaN      NaN      11.250000      26.000000   \n",
      "75%             NaN              NaN      NaN      16.170000      38.000000   \n",
      "max             NaN              NaN      NaN      49.830000      49.000000   \n",
      "\n",
      "                price  \n",
      "count   300153.000000  \n",
      "unique            NaN  \n",
      "top               NaN  \n",
      "freq              NaN  \n",
      "mean     20889.660523  \n",
      "std      22697.767366  \n",
      "min       1105.000000  \n",
      "25%       4783.000000  \n",
      "50%       7425.000000  \n",
      "75%      42521.000000  \n",
      "max     123071.000000  \n"
     ]
    }
   ],
   "source": [
    "#1. Display basic info using .info() and .describe() .\n",
    "\n",
    "import pandas as pd\n",
    "\n",
    "df = pd.read_csv(\"Clean_Dataset.csv\")  # Make sure the file path is correct\n",
    "\n",
    "print(\"=== .info() ===\")\n",
    "print(df.info())\n",
    "\n",
    "print(\"\\n=== .describe() ===\")\n",
    "print(df.describe(include='all'))  # Include all columns (numeric + object)\n"
   ]
  },
  {
   "cell_type": "code",
   "execution_count": 62,
   "id": "72dd83c4-cd26-424b-b0e1-74730533760d",
   "metadata": {},
   "outputs": [
    {
     "name": "stdout",
     "output_type": "stream",
     "text": [
      "Converted column: departure_time\n",
      "Converted column: arrival_time\n"
     ]
    },
    {
     "name": "stderr",
     "output_type": "stream",
     "text": [
      "C:\\Users\\shrey\\AppData\\Local\\Temp\\ipykernel_34188\\2106954320.py:11: UserWarning: Could not infer format, so each element will be parsed individually, falling back to `dateutil`. To ensure parsing is consistent and as-expected, please specify a format.\n",
      "  df[col] = pd.to_datetime(df[col], errors='coerce')  # Convert safely\n",
      "C:\\Users\\shrey\\AppData\\Local\\Temp\\ipykernel_34188\\2106954320.py:11: UserWarning: Could not infer format, so each element will be parsed individually, falling back to `dateutil`. To ensure parsing is consistent and as-expected, please specify a format.\n",
      "  df[col] = pd.to_datetime(df[col], errors='coerce')  # Convert safely\n"
     ]
    }
   ],
   "source": [
    "#2. Convert date/time columns to appropriate datetime format.\n",
    "import pandas as pd\n",
    "\n",
    "# Load dataset\n",
    "df = pd.read_csv(\"Clean_Dataset.csv\")\n",
    "\n",
    "# Automatically detect and convert date/time columns\n",
    "for col in df.columns:\n",
    "    if 'date' in col.lower() or 'time' in col.lower():  # Check column name pattern\n",
    "        try:\n",
    "            df[col] = pd.to_datetime(df[col], errors='coerce')  # Convert safely\n",
    "            print(f\"Converted column: {col}\")\n",
    "        except Exception as e:\n",
    "            print(f\"Failed to convert column: {col} | Error: {e}\")\n",
    "\n"
   ]
  },
  {
   "cell_type": "code",
   "execution_count": 63,
   "id": "a8cb0327-b52f-4a06-98ad-b92025cffb8b",
   "metadata": {},
   "outputs": [
    {
     "name": "stdout",
     "output_type": "stream",
     "text": [
      "  departure_time  Journey_Day  Journey_Month\n",
      "0            NaT          NaN            NaN\n",
      "1            NaT          NaN            NaN\n",
      "2            NaT          NaN            NaN\n",
      "3            NaT          NaN            NaN\n",
      "4            NaT          NaN            NaN\n"
     ]
    }
   ],
   "source": [
    "#3. Create columns for Journey Day and Month.\n",
    "import pandas as pd\n",
    "\n",
    "df['departure_time'] = pd.to_datetime(df['departure_time'], errors='coerce')  \n",
    "\n",
    "df['Journey_Day'] = df['departure_time'].dt.day\n",
    "df['Journey_Month'] = df['departure_time'].dt.month\n",
    "\n",
    "print(df[['departure_time', 'Journey_Day', 'Journey_Month']].head())\n"
   ]
  },
  {
   "cell_type": "code",
   "execution_count": 64,
   "id": "e65c29d7-1aa3-41e7-bdfd-7b1e108e93b8",
   "metadata": {},
   "outputs": [
    {
     "name": "stdout",
     "output_type": "stream",
     "text": [
      "Most Frequent Airline: Vistara (127859 times)\n",
      "Most Frequent Source City: Delhi (61343 times)\n"
     ]
    }
   ],
   "source": [
    "#4. Find the most frequent airline and source city.\n",
    "most_common_airline = df['airline'].value_counts().idxmax()\n",
    "airline_count = df['airline'].value_counts().max()\n",
    "\n",
    "most_common_source = df['source_city'].value_counts().idxmax()\n",
    "source_count = df['source_city'].value_counts().max()\n",
    "\n",
    "print(f\"Most Frequent Airline: {most_common_airline} ({airline_count} times)\")\n",
    "print(f\"Most Frequent Source City: {most_common_source} ({source_count} times)\")\n"
   ]
  },
  {
   "cell_type": "code",
   "execution_count": 65,
   "id": "9a2ca419-b203-4992-b069-251cb2ec3617",
   "metadata": {},
   "outputs": [
    {
     "name": "stdout",
     "output_type": "stream",
     "text": [
      "✅ Duplicates removed.\n",
      "\n",
      "🔍 Missing values per column:\n",
      "Unnamed: 0               0\n",
      "airline                  0\n",
      "flight                   0\n",
      "source_city              0\n",
      "departure_time      300153\n",
      "stops                    0\n",
      "arrival_time        300153\n",
      "destination_city         0\n",
      "class                    0\n",
      "duration                 0\n",
      "days_left                0\n",
      "price                    0\n",
      "Journey_Day         300153\n",
      "Journey_Month       300153\n",
      "dtype: int64\n",
      "\n",
      "✅ Dropped rows with missing values.\n"
     ]
    }
   ],
   "source": [
    "#5. Remove any duplicates and handle missing values.\n",
    "df = df.drop_duplicates()\n",
    "print(\"✅ Duplicates removed.\")\n",
    "\n",
    "missing_summary = df.isnull().sum()\n",
    "print(\"\\n🔍 Missing values per column:\")\n",
    "print(missing_summary)\n",
    "\n",
    "df = df.dropna()\n",
    "print(\"\\n✅ Dropped rows with missing values.\")\n",
    "\n"
   ]
  }
 ],
 "metadata": {
  "kernelspec": {
   "display_name": "Python 3 (ipykernel)",
   "language": "python",
   "name": "python3"
  },
  "language_info": {
   "codemirror_mode": {
    "name": "ipython",
    "version": 3
   },
   "file_extension": ".py",
   "mimetype": "text/x-python",
   "name": "python",
   "nbconvert_exporter": "python",
   "pygments_lexer": "ipython3",
   "version": "3.12.7"
  }
 },
 "nbformat": 4,
 "nbformat_minor": 5
}
